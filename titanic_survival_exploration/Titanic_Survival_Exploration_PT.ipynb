{
 "cells": [
  {
   "cell_type": "markdown",
   "metadata": {},
   "source": [
    "# Nanodegree Engenheiro de Machine Learning\n",
    "## Introdução e Fundamentos\n",
    "## Projeto 0: Explorando as Taxas de Sobrevivência do Titanic\n",
    "\n",
    "Em 1912, o navio RMS Titanic colidiu com um iceberg na sua viagem inaugural e naufragou, resultando na morte da maioria dos passageiros e tripulação. Neste projeto introdutório, nós exploraremos um subconjunto do manifesto de passageiros do RMS Titanic para determinar quais atributos melhor estimam se alguém sobreviveu ou não. Para completar este projeto, você vai precisar implementar vários modelos condicionais e responder as questões abaixo. A submissão do seu projeto será avaliada baseada na implementação do código e sua resposta para as questões.\n",
    "> **Dica:** Seções citadas, como esta, trarão instruções úteis de como navegar e utilizar o iPhython Notebook. "
   ]
  },
  {
   "cell_type": "markdown",
   "metadata": {},
   "source": [
    "# Começando\n",
    "Para começar a trabalhar com os dados de passageiros do RMS Titanic, primeiramente, vamos precisar `import` a funcionalidade que precisamos, e carregar nossos dados dentro do DataFrame do `pandas`.  \n",
    "Execute a célula de código abaixo para carregar nossos dados e exiba as poucas primeiras entradas (passageiros) para examiná-las utilizando a função `.head()`.\n",
    "> **Dica:** Você pode executar a célula de código clicando nela e utilizando o atalho de teclado **Shift + Enter** ou **Shift + Return**. Outra maneira seria a célula de código ser executada utilizando o botão **Play** no hotbar depois de selecioná-la. As células Markdown (células de texto como esta) podem ser editadas com clique duplo, e salvas utilizando o mesmo atalho. [Markdown](http://daringfireball.net/projects/markdown/syntax) permite que você escreva textos simples e fáceis de ler que podem ser convertidos para HTML."
   ]
  },
  {
   "cell_type": "code",
   "execution_count": 3,
   "metadata": {
    "collapsed": false
   },
   "outputs": [
    {
     "name": "stderr",
     "output_type": "stream",
     "text": [
      "/usr/local/lib/python2.7/dist-packages/matplotlib/font_manager.py:273: UserWarning: Matplotlib is building the font cache using fc-list. This may take a moment.\n",
      "  warnings.warn('Matplotlib is building the font cache using fc-list. This may take a moment.')\n"
     ]
    },
    {
     "data": {
      "text/html": [
       "<div>\n",
       "<table border=\"1\" class=\"dataframe\">\n",
       "  <thead>\n",
       "    <tr style=\"text-align: right;\">\n",
       "      <th></th>\n",
       "      <th>PassengerId</th>\n",
       "      <th>Survived</th>\n",
       "      <th>Pclass</th>\n",
       "      <th>Name</th>\n",
       "      <th>Sex</th>\n",
       "      <th>Age</th>\n",
       "      <th>SibSp</th>\n",
       "      <th>Parch</th>\n",
       "      <th>Ticket</th>\n",
       "      <th>Fare</th>\n",
       "      <th>Cabin</th>\n",
       "      <th>Embarked</th>\n",
       "    </tr>\n",
       "  </thead>\n",
       "  <tbody>\n",
       "    <tr>\n",
       "      <th>0</th>\n",
       "      <td>1</td>\n",
       "      <td>0</td>\n",
       "      <td>3</td>\n",
       "      <td>Braund, Mr. Owen Harris</td>\n",
       "      <td>male</td>\n",
       "      <td>22.0</td>\n",
       "      <td>1</td>\n",
       "      <td>0</td>\n",
       "      <td>A/5 21171</td>\n",
       "      <td>7.2500</td>\n",
       "      <td>NaN</td>\n",
       "      <td>S</td>\n",
       "    </tr>\n",
       "    <tr>\n",
       "      <th>1</th>\n",
       "      <td>2</td>\n",
       "      <td>1</td>\n",
       "      <td>1</td>\n",
       "      <td>Cumings, Mrs. John Bradley (Florence Briggs Th...</td>\n",
       "      <td>female</td>\n",
       "      <td>38.0</td>\n",
       "      <td>1</td>\n",
       "      <td>0</td>\n",
       "      <td>PC 17599</td>\n",
       "      <td>71.2833</td>\n",
       "      <td>C85</td>\n",
       "      <td>C</td>\n",
       "    </tr>\n",
       "    <tr>\n",
       "      <th>2</th>\n",
       "      <td>3</td>\n",
       "      <td>1</td>\n",
       "      <td>3</td>\n",
       "      <td>Heikkinen, Miss. Laina</td>\n",
       "      <td>female</td>\n",
       "      <td>26.0</td>\n",
       "      <td>0</td>\n",
       "      <td>0</td>\n",
       "      <td>STON/O2. 3101282</td>\n",
       "      <td>7.9250</td>\n",
       "      <td>NaN</td>\n",
       "      <td>S</td>\n",
       "    </tr>\n",
       "    <tr>\n",
       "      <th>3</th>\n",
       "      <td>4</td>\n",
       "      <td>1</td>\n",
       "      <td>1</td>\n",
       "      <td>Futrelle, Mrs. Jacques Heath (Lily May Peel)</td>\n",
       "      <td>female</td>\n",
       "      <td>35.0</td>\n",
       "      <td>1</td>\n",
       "      <td>0</td>\n",
       "      <td>113803</td>\n",
       "      <td>53.1000</td>\n",
       "      <td>C123</td>\n",
       "      <td>S</td>\n",
       "    </tr>\n",
       "    <tr>\n",
       "      <th>4</th>\n",
       "      <td>5</td>\n",
       "      <td>0</td>\n",
       "      <td>3</td>\n",
       "      <td>Allen, Mr. William Henry</td>\n",
       "      <td>male</td>\n",
       "      <td>35.0</td>\n",
       "      <td>0</td>\n",
       "      <td>0</td>\n",
       "      <td>373450</td>\n",
       "      <td>8.0500</td>\n",
       "      <td>NaN</td>\n",
       "      <td>S</td>\n",
       "    </tr>\n",
       "  </tbody>\n",
       "</table>\n",
       "</div>"
      ],
      "text/plain": [
       "   PassengerId  Survived  Pclass  \\\n",
       "0            1         0       3   \n",
       "1            2         1       1   \n",
       "2            3         1       3   \n",
       "3            4         1       1   \n",
       "4            5         0       3   \n",
       "\n",
       "                                                Name     Sex   Age  SibSp  \\\n",
       "0                            Braund, Mr. Owen Harris    male  22.0      1   \n",
       "1  Cumings, Mrs. John Bradley (Florence Briggs Th...  female  38.0      1   \n",
       "2                             Heikkinen, Miss. Laina  female  26.0      0   \n",
       "3       Futrelle, Mrs. Jacques Heath (Lily May Peel)  female  35.0      1   \n",
       "4                           Allen, Mr. William Henry    male  35.0      0   \n",
       "\n",
       "   Parch            Ticket     Fare Cabin Embarked  \n",
       "0      0         A/5 21171   7.2500   NaN        S  \n",
       "1      0          PC 17599  71.2833   C85        C  \n",
       "2      0  STON/O2. 3101282   7.9250   NaN        S  \n",
       "3      0            113803  53.1000  C123        S  \n",
       "4      0            373450   8.0500   NaN        S  "
      ]
     },
     "metadata": {},
     "output_type": "display_data"
    }
   ],
   "source": [
    "import numpy as np\n",
    "import pandas as pd\n",
    "\n",
    "# Código de visualização de dados do RMS Titanic \n",
    "from titanic_visualizations import survival_stats\n",
    "from IPython.display import display\n",
    "%matplotlib inline\n",
    "\n",
    "# Carregar o dataset\n",
    "in_file = 'titanic_data.csv'\n",
    "full_data = pd.read_csv(in_file)\n",
    "\n",
    "# Exibir as primeiras entradas dos dados do RMS Titanic\n",
    "display(full_data.head())"
   ]
  },
  {
   "cell_type": "markdown",
   "metadata": {},
   "source": [
    "Dado uma amostra de dados do RMS Titanic, podemos ver vários atributos presente para cada passageiro do navio:\n",
    "- **Survived**: Resultado da sobrevivência (0 = Não; 1 = Sim)\n",
    "- **Pclass**: Classe socioeconômica (1 = Classe alta; 2 = Classe média; 3 = Classe baixa)\n",
    "- **Name**: Nome do passageiro\n",
    "- **Sex**: Gênero do passageiro\n",
    "- **Age**: Idade do passageiro (Algumas entradas contêm `NaN`)\n",
    "- **SibSp**: Número de irmãos e cônjuges de cada passageiro a bordo\n",
    "- **Parch**: Número de pais ou filhos do passageiro\n",
    "- **Ticket**: O número do tíquete do passageiro\n",
    "- **Fare**: Tarifa paga pelo passageiro\n",
    "- **Cabin**: O número do tíquete do passageiro (Algumas entradas contém `NaN`)\n",
    "- **Embarque**: Portão de embarque do passageiro (C = Cherbourg; Q = Queenstown; S = Southampton)\n",
    "\n",
    "Dado que estamos interessados no resultado da sobrevivência de cada passageiro ou tripulação, nós podemos retirar o atributo **Survived** desse conjunto de dados e armazená-lo como uma própria variável `outcomes` separada. Usaremos esses resultados para avaliar nossos modelos.  \n",
    "Executar a célula de código abaixo e remova **Survived** dos atributos do conjunto de dados e armazene em `outcomes`."
   ]
  },
  {
   "cell_type": "code",
   "execution_count": 4,
   "metadata": {
    "collapsed": false
   },
   "outputs": [
    {
     "data": {
      "text/html": [
       "<div>\n",
       "<table border=\"1\" class=\"dataframe\">\n",
       "  <thead>\n",
       "    <tr style=\"text-align: right;\">\n",
       "      <th></th>\n",
       "      <th>PassengerId</th>\n",
       "      <th>Pclass</th>\n",
       "      <th>Name</th>\n",
       "      <th>Sex</th>\n",
       "      <th>Age</th>\n",
       "      <th>SibSp</th>\n",
       "      <th>Parch</th>\n",
       "      <th>Ticket</th>\n",
       "      <th>Fare</th>\n",
       "      <th>Cabin</th>\n",
       "      <th>Embarked</th>\n",
       "    </tr>\n",
       "  </thead>\n",
       "  <tbody>\n",
       "    <tr>\n",
       "      <th>0</th>\n",
       "      <td>1</td>\n",
       "      <td>3</td>\n",
       "      <td>Braund, Mr. Owen Harris</td>\n",
       "      <td>male</td>\n",
       "      <td>22.0</td>\n",
       "      <td>1</td>\n",
       "      <td>0</td>\n",
       "      <td>A/5 21171</td>\n",
       "      <td>7.2500</td>\n",
       "      <td>NaN</td>\n",
       "      <td>S</td>\n",
       "    </tr>\n",
       "    <tr>\n",
       "      <th>1</th>\n",
       "      <td>2</td>\n",
       "      <td>1</td>\n",
       "      <td>Cumings, Mrs. John Bradley (Florence Briggs Th...</td>\n",
       "      <td>female</td>\n",
       "      <td>38.0</td>\n",
       "      <td>1</td>\n",
       "      <td>0</td>\n",
       "      <td>PC 17599</td>\n",
       "      <td>71.2833</td>\n",
       "      <td>C85</td>\n",
       "      <td>C</td>\n",
       "    </tr>\n",
       "    <tr>\n",
       "      <th>2</th>\n",
       "      <td>3</td>\n",
       "      <td>3</td>\n",
       "      <td>Heikkinen, Miss. Laina</td>\n",
       "      <td>female</td>\n",
       "      <td>26.0</td>\n",
       "      <td>0</td>\n",
       "      <td>0</td>\n",
       "      <td>STON/O2. 3101282</td>\n",
       "      <td>7.9250</td>\n",
       "      <td>NaN</td>\n",
       "      <td>S</td>\n",
       "    </tr>\n",
       "    <tr>\n",
       "      <th>3</th>\n",
       "      <td>4</td>\n",
       "      <td>1</td>\n",
       "      <td>Futrelle, Mrs. Jacques Heath (Lily May Peel)</td>\n",
       "      <td>female</td>\n",
       "      <td>35.0</td>\n",
       "      <td>1</td>\n",
       "      <td>0</td>\n",
       "      <td>113803</td>\n",
       "      <td>53.1000</td>\n",
       "      <td>C123</td>\n",
       "      <td>S</td>\n",
       "    </tr>\n",
       "    <tr>\n",
       "      <th>4</th>\n",
       "      <td>5</td>\n",
       "      <td>3</td>\n",
       "      <td>Allen, Mr. William Henry</td>\n",
       "      <td>male</td>\n",
       "      <td>35.0</td>\n",
       "      <td>0</td>\n",
       "      <td>0</td>\n",
       "      <td>373450</td>\n",
       "      <td>8.0500</td>\n",
       "      <td>NaN</td>\n",
       "      <td>S</td>\n",
       "    </tr>\n",
       "  </tbody>\n",
       "</table>\n",
       "</div>"
      ],
      "text/plain": [
       "   PassengerId  Pclass                                               Name  \\\n",
       "0            1       3                            Braund, Mr. Owen Harris   \n",
       "1            2       1  Cumings, Mrs. John Bradley (Florence Briggs Th...   \n",
       "2            3       3                             Heikkinen, Miss. Laina   \n",
       "3            4       1       Futrelle, Mrs. Jacques Heath (Lily May Peel)   \n",
       "4            5       3                           Allen, Mr. William Henry   \n",
       "\n",
       "      Sex   Age  SibSp  Parch            Ticket     Fare Cabin Embarked  \n",
       "0    male  22.0      1      0         A/5 21171   7.2500   NaN        S  \n",
       "1  female  38.0      1      0          PC 17599  71.2833   C85        C  \n",
       "2  female  26.0      0      0  STON/O2. 3101282   7.9250   NaN        S  \n",
       "3  female  35.0      1      0            113803  53.1000  C123        S  \n",
       "4    male  35.0      0      0            373450   8.0500   NaN        S  "
      ]
     },
     "metadata": {},
     "output_type": "display_data"
    }
   ],
   "source": [
    "# Armazenar 'Survived' em uma nova variável e remover do conjunto de dados\n",
    "outcomes = full_data['Survived']\n",
    "data = full_data.drop('Survived', axis = 1)\n",
    "\n",
    "# Mostrar o novo conjunto de dados com 'Survived' removido\n",
    "display(data.head())"
   ]
  },
  {
   "cell_type": "markdown",
   "metadata": {},
   "source": [
    "A exata mesma amostra de dados do RMS Titanic agora mostra o atributo **Survived** removida do DataFrame. Note que `data` (os dados dos passageiros) e `outcomes` (os resultados de sobrevivência) agora estão *pareados*. Isso significa que para qualquer passageiro `data.loc[i]`, ele tem um resultado de sobrevivência `outcome[i]`.\n",
    "\n",
    "Para mensurar o desempenho de nossos modelos, precisamos de uma métrica que os avalie em comparação aos resultados de sobrevivência verdadeiros. Dado que estamos interessados em quão *precisas* são as nossas estimativas, vamos calcular a proporção de passageiros em que nosso modelo de sobrevivência está correto. Execute a célula de código abaixo para criar nossa função `accuracy_score` e testá-lo nos cinco primeiros passageiros.  \n",
    "\n",
    "**Pense:** *Dentre os cinco primeiros passageiros, se estimarmos que todos eles sobreviverão, qual você espera ser a precisão de nosso modelo?*"
   ]
  },
  {
   "cell_type": "code",
   "execution_count": 5,
   "metadata": {
    "collapsed": false
   },
   "outputs": [
    {
     "name": "stdout",
     "output_type": "stream",
     "text": [
      "Estimativas têm uma precisão de 60.00%.\n"
     ]
    }
   ],
   "source": [
    "def accuracy_score(truth, pred):\n",
    "    \"\"\" Devolver a medida da precisão para um conjunto de valores reais e estimativas. \"\"\"\n",
    "    \n",
    "    # Certificar-se de que há o mesmo número de valores reais e estimativas\n",
    "    if len(truth) == len(pred): \n",
    "        \n",
    "        # Calcular e devolver a precisão como uma porcentagem\n",
    "        return \"Estimativas têm uma precisão de {:.2f}%.\".format((truth == pred).mean()*100)\n",
    "    \n",
    "    else:\n",
    "        return \"Número de estimativas não bate com o número de resultados!\"\n",
    "    \n",
    "# Testar a função 'accuracy_score'\n",
    "predictions = pd.Series(np.ones(5, dtype = int))\n",
    "print accuracy_score(outcomes[:5], predictions)"
   ]
  },
  {
   "cell_type": "markdown",
   "metadata": {},
   "source": [
    "> **Dica:** Se você salvar um iPython Notebook, a saída dos blocos do código executado também será salvo. Entretanto, o estado do seu workspace será resetado assim que uma nova seção iniciar. Tenha certeza que você executou todos os blocos de código da seção anterior para reestabelecer as variáveis e funções antes de voltar para onde você parou.\n",
    "\n",
    "# Fazendo Modelos\n",
    "\n",
    "Se fosse pedido para que fizéssemos uma estimativa sobre qualquer passageiro a bordo do RMS Titanic de quem não sabemos nada a respeito, a melhor estimativa que poderíamos fazer é que ele não sobreviveu. Isso acontece porque podemos assumir que a maioria dos passageiros (mais de 50%) não sobreviveram ao naufrágio do navio.  \n",
    "A função `predictions_0` abaixo sempre irá estimar que o passageiro não sobreviveu."
   ]
  },
  {
   "cell_type": "code",
   "execution_count": 6,
   "metadata": {
    "collapsed": false
   },
   "outputs": [],
   "source": [
    "def predictions_0(data):\n",
    "    \"\"\" Modelo sem atributos. Sempre estima que o passageiro não sobreviveu. \"\"\"\n",
    "\n",
    "    predictions = []\n",
    "    for _, passenger in data.iterrows():\n",
    "        \n",
    "        # Prever a sobrevivência do 'passageiro'\n",
    "        predictions.append(0)\n",
    "    \n",
    "    # Devolver nosso modelo\n",
    "    return pd.Series(predictions)\n",
    "\n",
    "# Fazer as estimativas\n",
    "predictions = predictions_0(data)"
   ]
  },
  {
   "cell_type": "markdown",
   "metadata": {},
   "source": [
    "### Questão 1\n",
    "*Utilizando os dados do RMS Titanic, quão precisa pode ser nosso modelo de que nenhum dos passageiros sobreviveu?*  \n",
    "**Dica:** Execute a célula de códigos abaixo para ver a precisão desse modelo."
   ]
  },
  {
   "cell_type": "code",
   "execution_count": 7,
   "metadata": {
    "collapsed": false
   },
   "outputs": [
    {
     "name": "stdout",
     "output_type": "stream",
     "text": [
      "Estimativas têm uma precisão de 61.62%.\n"
     ]
    }
   ],
   "source": [
    "print accuracy_score(outcomes, predictions)"
   ]
  },
  {
   "cell_type": "markdown",
   "metadata": {},
   "source": [
    "**Resposta:** Estimativas têm uma precisão de 61.62%.\n"
   ]
  },
  {
   "cell_type": "markdown",
   "metadata": {},
   "source": [
    "***\n",
    "Vamos ver se o atributo **Sex** tem algum indicativo de taxa de sobrevivência entre os passageiros utilizando a função `survival_stats`. Essa função é definida no script Python `titanic_visualizations.py`, incluído neste projeto. Os dois primeiros parâmetros passados para a função são os dados dos passageiros do RMS Titanic e os resultados de sobrevivência dos passageiros, respectivamente. O terceiro parâmetro indica qual atributo nós queremos traçar estatísticas de sobrevivência.  \n",
    "Execute a célula de código abaixo para traçar os resultados de sobrevivência dos passageiros baseados em seus gêneros."
   ]
  },
  {
   "cell_type": "code",
   "execution_count": 8,
   "metadata": {
    "collapsed": false
   },
   "outputs": [
    {
     "data": {
      "image/png": "[encoded data removed]",
      "text/plain": [
       "<matplotlib.figure.Figure at 0x7fc0a89397d0>"
      ]
     },
     "metadata": {},
     "output_type": "display_data"
    }
   ],
   "source": [
    "survival_stats(data, outcomes, 'Sex')"
   ]
  },
  {
   "cell_type": "markdown",
   "metadata": {},
   "source": [
    "Examinando as estatísticas de sobrevivência, a grande maioria de homens não sobreviveu ao naufrágio. Entretanto, a maioria das mulheres *sobreviveu* ao naufrágio. Vamos continuar em cima do nosso modelo anterior: se um passageiro pertence ao gênero feminino, então nós iremos prever que ele vai sobreviver. Do contrário, nós estimaremos que o passageiro não sobreviveu.  \n",
    "Preencha o código ausente abaixo para que a função faça a estimativa.  \n",
    "**Dica:** Você pode acessar os valores de cada atributo para um passageiro como em um dicionário. Por exemplo, `passenger['Sex']` é o gênero do passageiro."
   ]
  },
  {
   "cell_type": "code",
   "execution_count": 14,
   "metadata": {
    "collapsed": false
   },
   "outputs": [],
   "source": [
    "def predictions_1(data):\n",
    "    \"\"\" Modelo com uma atributo: \n",
    "            - Estimar se o passageiro sobrevive se ele for do gênero feminino. \"\"\"\n",
    "    \n",
    "    predictions = []\n",
    "    for _, passenger in data.iterrows():\n",
    "        \n",
    "        if passenger['Sex'] == 'female':\n",
    "            predictions.append(1)\n",
    "        else:\n",
    "            predictions.append(0)\n",
    "    \n",
    "    # Devolver nossas estimativas\n",
    "    return pd.Series(predictions)\n",
    "\n",
    "# Fazer as estimativas\n",
    "predictions = predictions_1(data)"
   ]
  },
  {
   "cell_type": "markdown",
   "metadata": {},
   "source": [
    "### Questão 2\n",
    "*Quão preciso pode ser um modelo que estima que todos os passageiros do gênero feminino sobreviveram e o resto dos passageiros não?*  \n",
    "**Dica:** Execute o código abaixo para ver a precisão do modelo."
   ]
  },
  {
   "cell_type": "code",
   "execution_count": 15,
   "metadata": {
    "collapsed": false
   },
   "outputs": [
    {
     "name": "stdout",
     "output_type": "stream",
     "text": [
      "Estimativas têm uma precisão de 78.68%.\n"
     ]
    }
   ],
   "source": [
    "print accuracy_score(outcomes, predictions)"
   ]
  },
  {
   "cell_type": "markdown",
   "metadata": {},
   "source": [
    "**Resposta**: Estimativas têm uma precisão de 78.68%."
   ]
  },
  {
   "cell_type": "markdown",
   "metadata": {},
   "source": [
    "***\n",
    "Utilizando apenas o atributo **Sex** para cada passageiro, nós poderemos aumentar a precisão de nossas estimativas em uma margem significativa. Agora, vamos considerar o uso de um atributo adicional para ver se podemos melhorar ainda mais nossas estimativas. Por exemplo, considerando todos os passageiros do gênero masculino abordo do RMS Titanic: Podemos encontrar um subconjunto desses passageiros que tem maior chance de sobrevivência? Vamos começar olhando a **Age** de cada passageiro do gênero masculino, utilizando novamente a função `survival_stats`. Dessa vez, vamos utilizar um quarto parâmetro para filtrar os dados, assim apenas passageiros com **Sex** masculino serão incluídos.  \n",
    "Execute a célula de código abaixo para traçar os resultados de sobrevivência dos passageiros do gênero masculino baseado em suas idades."
   ]
  },
  {
   "cell_type": "code",
   "execution_count": 16,
   "metadata": {
    "collapsed": false
   },
   "outputs": [
    {
     "data": {
      "image/png": "[encoded data removed]",
      "text/plain": [
       "<matplotlib.figure.Figure at 0x7fc0a6ceb450>"
      ]
     },
     "metadata": {},
     "output_type": "display_data"
    }
   ],
   "source": [
    "survival_stats(data, outcomes, 'Age', [\"Sex == 'male'\"])"
   ]
  },
  {
   "cell_type": "markdown",
   "metadata": {
    "collapsed": true
   },
   "source": [
    "Examinando as estatísticas de sobrevivência, a maioria dos passageiros do gênero masculino mais jovens que 10 anos sobreviveram ao naufrágio do navio, enquanto que a maioria dos passageiros do gênero masculino de 10 anos de idade ou mais velhos *não sobreviveram* ao naufrágio do navio. Vamos continuar em cima da nosso modelo anterior: se um passageiro for do gênero feminino, então estimaremos que irá sobreviver. Se o passageiro é do gênero masculino e mais jovem que 10 anos, então vamos estimar que ele irá sobreviver. Do contrário, vamos estimar que ele não irá sobreviver.  \n",
    "Preencha o código ausente abaixo para que a função faça a sua estimativa.  \n",
    "**Dica:** Você pode começar sua implementação dessa função utilizando o código de estimativa que você escreveu anteriormente em `predictions_1`."
   ]
  },
  {
   "cell_type": "code",
   "execution_count": 21,
   "metadata": {
    "collapsed": false
   },
   "outputs": [],
   "source": [
    "def predictions_2(data):\n",
    "    \"\"\" Modelo com dois atributos: \n",
    "            - Estimar a sobrevivência do passageiro se ele for do gênero feminino.\n",
    "            - Estimar a sobrevivência do passageiro se ele for do gênero masculino e mais jovem do que 10 anos de idade. \"\"\"\n",
    "    \n",
    "    predictions = []\n",
    "    for _, passenger in data.iterrows():\n",
    "        \n",
    "        if passenger['Sex'] == 'female' or passenger['Age'] < 10:\n",
    "            predictions.append(1)\n",
    "        else:\n",
    "            predictions.append(0)\n",
    "            \n",
    "    \n",
    "    # Retornar nossas estimativas\n",
    "    return pd.Series(predictions)\n",
    "\n",
    "# Fazer as estimativas\n",
    "predictions = predictions_2(data)"
   ]
  },
  {
   "cell_type": "markdown",
   "metadata": {},
   "source": [
    "### Questão 3\n",
    "*Quão precisa uma estimativa pode ser em que todos os passageiros do gênero feminino e do gênero masculino mais jovens que 10 anos sobreviveram?*  \n",
    "**Dica:** Execute a célula de código abaixo para ver a precisão desse modelo."
   ]
  },
  {
   "cell_type": "code",
   "execution_count": 22,
   "metadata": {
    "collapsed": false
   },
   "outputs": [
    {
     "name": "stdout",
     "output_type": "stream",
     "text": [
      "Estimativas têm uma precisão de 79.35%.\n"
     ]
    }
   ],
   "source": [
    "print accuracy_score(outcomes, predictions)"
   ]
  },
  {
   "cell_type": "markdown",
   "metadata": {},
   "source": [
    "**Resposta**: Estimativas têm uma precisão de 79.35%."
   ]
  },
  {
   "cell_type": "markdown",
   "metadata": {
    "collapsed": true
   },
   "source": [
    "***\n",
    "Adicionando a atributo **Age** como uma condição em conjunto com **Sex**, melhora a estimativa em uma pequena margem, maior do que utilizando o atributo **Sex** sozinha. Agora é a sua vez: Encontre uma série de atributos e condições para separar os dados e obter uma precisão do resultado de sobrevivência de pelo menos 80%. Para isso pode ser necessário múltiplos atributos e múltiplos níveis de declaração de condições para obter sucesso. Você pode utilizar a mesma atributo várias vezes com diferentes condições.   \n",
    "**Pclass**, **Sex**, **Age**, **SibSp** e **Parch** são algumas sugestões de atributos que você pode utilizar.\n",
    "\n",
    "Utilize a função `survival_stats` abaixo para examinar várias estatísticas de sobrevivência.  \n",
    "**Dica:** Para utilizar múltiplos filtros de condições, coloque cada condição na lista passada como último argumento. Exemplo: `[\"Sex == 'male'\", \"Age < 18\"]`"
   ]
  },
  {
   "cell_type": "code",
   "execution_count": 122,
   "metadata": {
    "collapsed": false
   },
   "outputs": [
    {
     "data": {
      "image/png": "[encoded data removed]",
      "text/plain": [
       "<matplotlib.figure.Figure at 0x7fc0a64c9c90>"
      ]
     },
     "metadata": {},
     "output_type": "display_data"
    }
   ],
   "source": [
    "survival_stats(data, outcomes, 'Pclass', [\"Sex == 'female'\"])"
   ]
  },
  {
   "cell_type": "markdown",
   "metadata": {},
   "source": [
    "Depois de explorar a visualização de estatísticas de sobrevivência, preencha o código ausente abaixo para que a função faça a sua estimativa.  \n",
    "Documente na sua resposta os vários atributos e condições que você experimentou antes de chegar ao seu modelo de estimativa final.  \n",
    "**Dica:** Você pode iniciar sua implementação dessa função utilizando o código de estimativa que você escreveu anteriormente em `predictions_2`."
   ]
  },
  {
   "cell_type": "code",
   "execution_count": 115,
   "metadata": {
    "collapsed": false
   },
   "outputs": [],
   "source": [
    "def predictions_3(data):\n",
    "    \"\"\" Modelo com múltiplos atributos. Faz uma estimativa com uma precisão de pelo menos 80%. \"\"\"\n",
    "    \n",
    "    predictions = []\n",
    "    for _, passenger in data.iterrows():\n",
    "        \n",
    "        if passenger['Pclass'] == 3:\n",
    "            if passenger['Sex'] == 'female':\n",
    "                predictions.append(np.random.binomial(1, p=0.5))\n",
    "            else:\n",
    "                predictions.append(0)\n",
    "        else:\n",
    "            if passenger['Sex'] == 'female' or passenger['Age']<18:\n",
    "                predictions.append(1)\n",
    "            else:\n",
    "                predictions.append(0)\n",
    "            \n",
    "    \n",
    "    # Retornar nossas estimativas\n",
    "    return pd.Series(predictions)\n",
    "\n",
    "# Faz as estimativas\n",
    "predictions = predictions_3(data)"
   ]
  },
  {
   "cell_type": "markdown",
   "metadata": {},
   "source": [
    "### Questão 4\n",
    "*Descreva os passos que você tomou para implementar o modelo de estimativa final para que tenha uma precisão de 80%. Quais atributos você investigou? Alguns atributos eram mais informativos do que os outros? Quais condições você utilizou para separar os resultados de sobrevivência nos dados? Quão precisas são suas estimativas?*  \n",
    "**Dica:** Execute o código abaixo para ver a precisão da sua estimativa."
   ]
  },
  {
   "cell_type": "code",
   "execution_count": 116,
   "metadata": {
    "collapsed": false
   },
   "outputs": [
    {
     "name": "stdout",
     "output_type": "stream",
     "text": [
      "Estimativas têm uma precisão de 80.70%.\n"
     ]
    }
   ],
   "source": [
    "print accuracy_score(outcomes, predictions)"
   ]
  },
  {
   "cell_type": "markdown",
   "metadata": {},
   "source": [
    "**Resposta**: Para melhorar a precisão da estimativa levei em consideração a classe do passageiro. Sabemos que a maioria das mulheres sobreviveu, porém, ao observar o gráfico sobre o atributo 'Pclass' vemos que se a mulher é da classe '3' então ela tem 50% de chance de sobreviver. Adicionando essa condição ao código foi possível encontrar uma precisão de aproximadamente 80.50%  "
   ]
  },
  {
   "cell_type": "code",
   "execution_count": null,
   "metadata": {
    "collapsed": true
   },
   "outputs": [],
   "source": []
  },
  {
   "cell_type": "markdown",
   "metadata": {},
   "source": [
    "# Conclusão\n",
    "\n",
    "Depois de muitas iterações explorando e condicionando os dados, você construiu um algoritmo útil para estimar a sobrevivência de cada passageiro abordo do RMS Titanic. A técnica aplicada neste projeto é uma implementação manual de um modelo simples de machine learning, a *árvore de decisão*. A árvore de decisão separa um conjunto de dados em pedaços cada vez menores (chamados de *nós*), ao utilizar um atributo de cada vez. Cada vez que um conjunto de dados é separado, nossas estimativas tornam-se mais precisas, como se cada um dos subgrupos resultantes se tornasse mais homogêneo (contendo classes similares) do que antes. A vantagem de ter um computador fazendo coisas por nós é que ele pode ser levado a exaustão e obter resultados mais preciso do que nossa exploração manual acima. [Este link](http://www.r2d3.us/visual-intro-to-machine-learning-part-1/) fornece outra introdução em machine learning utilizando a árvore de decisão.\n",
    "\n",
    "A árvore de decisão é apenas um de muitos modelos que vem da *aprendizagem supervisionada*. Na aprendizagem supervisionada, nós tentamos utilizar atributos dos dados para estimar ou modelar coisas com resultados objetivos classificadas. Dito isso, cada um dos pontos dos nossos dados tem um valor de resultado conhecido, como uma categórica, discreta classe como `'Survived'`, ou um número, um valor contínuo como estimar o valor de uma casa.\n",
    "\n",
    "### Questão 5\n",
    "*Pense em uma situação do mundo real em que a aprendizagem supervisionada pode ser aplicada. O que seria o resultado variável que você está tentando estimar? Nomeie dois atributos sobre os dados utilizados nessa situação que possam ser úteis para fazer as estimativas.*  "
   ]
  },
  {
   "cell_type": "markdown",
   "metadata": {
    "collapsed": true
   },
   "source": [
    "**Resposta**: Prever se um candidato se qualifica para uma vaga de emprego. Alguns atributos que podem ser úteis para a estimativa seriam anos de experiência e nivel educacional."
   ]
  },
  {
   "cell_type": "markdown",
   "metadata": {},
   "source": [
    "> **Nota**: Uma vez que você tenha completado todas as implementações de código e tenha respondido todas as questões acima com sucesso, você pode finalizar seu trabalho exportando o iPhyton Notebook como um documento HTML. Você pode fazer isso utilizando o menu acima e navegando para  \n",
    "**File -> Download as -> HTML (.html)**. Inclua o documento finalizando junto com o Notebook como a sua submissão."
   ]
  }
 ],
 "metadata": {
  "anaconda-cloud": {},
  "kernelspec": {
   "display_name": "Python 2",
   "language": "python",
   "name": "python2"
  },
  "language_info": {
   "codemirror_mode": {
    "name": "ipython",
    "version": 2
   },
   "file_extension": ".py",
   "mimetype": "text/x-python",
   "name": "python",
   "nbconvert_exporter": "python",
   "pygments_lexer": "ipython2",
   "version": "2.7.6"
  }
 },
 "nbformat": 4,
 "nbformat_minor": 0
}
